{
 "cells": [
  {
   "cell_type": "code",
   "execution_count": null,
   "metadata": {},
   "outputs": [],
   "source": [
    "# import libraries\n",
    "\n",
    "import tweepy\n",
    "from textblob import TextBlob\n",
    "import csv\n",
    "import pandas as pd\n",
    "import numpy as np\n",
    "import re"
   ]
  },
  {
   "cell_type": "code",
   "execution_count": null,
   "metadata": {},
   "outputs": [],
   "source": [
    "# variables for keys associated with Twitter API - keys replaced with placeholder to prevent rate limiting\n",
    "\n",
    "consumer_key = 'REPLACE WITH CONSUMER KEY'\n",
    "consumer_key_secret = 'REPLACE WITH SECRET CONSUMER KEY'\n",
    "access_token = 'REPLACE WITH ACCESS TOKEN'\n",
    "access_token_secret = 'REPLACE WITH SECRET ACCESS TOKEN'"
   ]
  },
  {
   "cell_type": "code",
   "execution_count": null,
   "metadata": {},
   "outputs": [],
   "source": [
    "# authentication\n",
    "\n",
    "auth = tweepy.OAuthHandler(consumer_key, consumer_key_secret)\n",
    "auth.set_access_token(access_token, access_token_secret)\n",
    "\n",
    "# return API with authentication\n",
    "\n",
    "api = tweepy.API(auth)"
   ]
  },
  {
   "cell_type": "code",
   "execution_count": null,
   "metadata": {},
   "outputs": [],
   "source": [
    "# function for cleaning tweets by removing links and special characters\n",
    "\n",
    "def clean_tweet(tweet):\n",
    "    return ' '.join(re.sub(\"(@[A-Za-z0-9]+)|([^0-9A-Za-z \\t])|(\\w+:\\/\\/\\S+)\", \" \", tweet).split())"
   ]
  },
  {
   "cell_type": "code",
   "execution_count": null,
   "metadata": {},
   "outputs": [],
   "source": [
    "# function to carry out sentiment analysis on cleaned tweet\n",
    "\n",
    "def analize_sentiment(tweet, isPolarity):\n",
    "    analysis = TextBlob(clean_tweet(tweet))\n",
    "    if(isPolarity == True):\n",
    "        return(analysis.polarity)\n",
    "    else:\n",
    "        return(analysis.subjectivity)"
   ]
  },
  {
   "cell_type": "code",
   "execution_count": null,
   "metadata": {},
   "outputs": [],
   "source": [
    "# function to create dataframe of tweet meta data and sentiment analysis\n",
    "\n",
    "def sentimentAnalysis(query):\n",
    "    query = query\n",
    "    max_tweets = 1000\n",
    "    tweets = [status for status in tweepy.Cursor(api.search, q=query).items(max_tweets)]\n",
    "\n",
    "    df = pd.DataFrame(data=[tweet.id for tweet in tweets], columns=['ID'])\n",
    "    df['Date'] = np.array([tweet.created_at for tweet in tweets])\n",
    "    df['Tweet'] = np.array([tweet.text for tweet in tweets])\n",
    "    df['Characters'] = np.array([len(tweet.text) for tweet in tweets])\n",
    "    df['Likes'] = np.array([tweet.favorite_count for tweet in tweets])\n",
    "    df['Retweets'] = np.array([tweet.retweet_count for tweet in tweets])\n",
    "    df['Source'] = np.array([tweet.source for tweet in tweets])\n",
    "    df['Language'] = np.array([tweet.lang for tweet in tweets])\n",
    "    df['Polarity'] = np.array([analize_sentiment(tweet, True) for tweet in df['Tweet']])\n",
    "    df['Subjectivity'] = np.array([analize_sentiment(tweet, False) for tweet in df['Tweet']])\n",
    "\n",
    "    return df"
   ]
  },
  {
   "cell_type": "code",
   "execution_count": null,
   "metadata": {
    "scrolled": true
   },
   "outputs": [],
   "source": [
    "# run function with query\n",
    "\n",
    "sentimentAnalysis(\"Example\")"
   ]
  },
  {
   "cell_type": "code",
   "execution_count": null,
   "metadata": {},
   "outputs": [],
   "source": [
    "# export dataframe to csv\n",
    "\n",
    "df.to_csv(\"TwitterSentimentAnalysis.csv\")"
   ]
  }
 ],
 "metadata": {
  "kernelspec": {
   "display_name": "Python 3",
   "language": "python",
   "name": "python3"
  },
  "language_info": {
   "codemirror_mode": {
    "name": "ipython",
    "version": 3
   },
   "file_extension": ".py",
   "mimetype": "text/x-python",
   "name": "python",
   "nbconvert_exporter": "python",
   "pygments_lexer": "ipython3",
   "version": "3.6.8"
  }
 },
 "nbformat": 4,
 "nbformat_minor": 2
}
